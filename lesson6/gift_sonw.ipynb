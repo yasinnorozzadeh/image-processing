{
 "cells": [
  {
   "cell_type": "code",
   "execution_count": 44,
   "id": "c05f9fd8-06a8-4ac2-80dd-c3c6b7887b2e",
   "metadata": {},
   "outputs": [],
   "source": [
    "import random\n",
    "import cv2\n",
    "import numpy as np\n",
    "import matplotlib.pyplot as plt\n",
    "from cvzone import overlayPNG\n",
    "import imageio"
   ]
  },
  {
   "cell_type": "code",
   "execution_count": 45,
   "id": "b0f281cf-2c9e-4d5f-aa50-be28695ce2fe",
   "metadata": {},
   "outputs": [],
   "source": [
    "background_img = cv2.imread('img/street_snow.jpg')\n",
    "snows = []\n",
    "s_size = random.randint(1, 10)\n",
    "for i in range(3):\n",
    "    snow_img = cv2.imread('img/snow.png', -1)\n",
    "    small_snow = cv2.resize(snow_img, (s_size , s_size))\n",
    "    snows.append(small_snow)"
   ]
  },
  {
   "cell_type": "code",
   "execution_count": 46,
   "id": "d397ca9e-87fc-4a42-ace7-4cae53bd6c60",
   "metadata": {},
   "outputs": [],
   "source": [
    "y, x, _ = background_img.shape\n",
    "snows_positoins = [] \n",
    "for i in range(200): \n",
    "    temp_x = random.choice(range(50, x-s_size))\n",
    "    temp_y = random.choice(range(50, y-s_size))\n",
    "    snows_positoins.append([temp_y, temp_x])"
   ]
  },
  {
   "cell_type": "code",
   "execution_count": 47,
   "id": "a5031e09-a254-4cbe-80d3-f033dd9c4d49",
   "metadata": {},
   "outputs": [],
   "source": [
    "with imageio.get_writer(\"snow.gif\", mode=\"I\") as writer:\n",
    "    for i in range(200):\n",
    "        frame = background_img\n",
    "        for j in range(200):\n",
    "            frame = overlayPNG(frame, snows[j % 3], (snows_positoins[j][1], snows_positoins[j][0])) \n",
    "            snows_positoins[j][0] += 4\n",
    "            rnd_x = random.choices([1, 2, -1], weights=[5,55,55])[0]\n",
    "            snows_positoins[j][1] += rnd_x\n",
    "            if snows_positoins[j][0] < 0 or snows_positoins[j][0] + s_size >= y or snows_positoins[j][1] < 0 or snows_positoins[j][1] + s_size >= x:\n",
    "                snows_positoins[j][0] = 0\n",
    "                snows_positoins[j][1] = random.randint(0, x - s_size - 1)\n",
    "                "
   ]
  }
 ],
 "metadata": {
  "kernelspec": {
   "display_name": "Python 3 (ipykernel)",
   "language": "python",
   "name": "python3"
  },
  "language_info": {
   "codemirror_mode": {
    "name": "ipython",
    "version": 3
   },
   "file_extension": ".py",
   "mimetype": "text/x-python",
   "name": "python",
   "nbconvert_exporter": "python",
   "pygments_lexer": "ipython3",
   "version": "3.7.9"
  }
 },
 "nbformat": 4,
 "nbformat_minor": 5
}
