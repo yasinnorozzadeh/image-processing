{
 "cells": [
  {
   "cell_type": "code",
   "execution_count": 24,
   "id": "8526e3f1-6837-4465-b3eb-b627b9e51490",
   "metadata": {},
   "outputs": [],
   "source": [
    "import os\n",
    "import cv2\n",
    "import numpy as np\n",
    "import matplotlib.pyplot as plt\n",
    "img = cv2.imread('img/mnist.png', 0)"
   ]
  },
  {
   "cell_type": "code",
   "execution_count": 25,
   "id": "7dad4fa6-5d5d-4ccf-9e7b-77d69134e764",
   "metadata": {},
   "outputs": [
    {
     "name": "stdout",
     "output_type": "stream",
     "text": [
      "Folders already exists.\n",
      "Folders already exists.\n",
      "Folders already exists.\n",
      "Folders already exists.\n",
      "Folders already exists.\n",
      "Folders already exists.\n",
      "Folders already exists.\n",
      "Folders already exists.\n",
      "Folders already exists.\n",
      "Folders already exists.\n"
     ]
    }
   ],
   "source": [
    "for i in range(1, 11):\n",
    "    try:\n",
    "        os.mkdir(f'output/{i}')\n",
    "    except FileExistsError:\n",
    "        print('Folders already exists.')"
   ]
  },
  {
   "cell_type": "code",
   "execution_count": 26,
   "id": "b9c2ebfe-86f4-4cf3-9f56-29354d4c4089",
   "metadata": {},
   "outputs": [],
   "source": [
    "rows, cols = img.shape\n",
    "for index, i in enumerate(range(0, rows, 20)):\n",
    "    for j in range(0, cols, 20):\n",
    "        folder_number = index//5\n",
    "        small_img = img[i:i+20, j:j+20]\n",
    "        cv2.imwrite(f'output/{folder_number}/{i}{j}.jpg', small_img)"
   ]
  },
  {
   "cell_type": "code",
   "execution_count": null,
   "id": "96405351-59fd-42d9-b6d8-5673ed6d9f05",
   "metadata": {},
   "outputs": [],
   "source": []
  }
 ],
 "metadata": {
  "kernelspec": {
   "display_name": "Python 3 (ipykernel)",
   "language": "python",
   "name": "python3"
  },
  "language_info": {
   "codemirror_mode": {
    "name": "ipython",
    "version": 3
   },
   "file_extension": ".py",
   "mimetype": "text/x-python",
   "name": "python",
   "nbconvert_exporter": "python",
   "pygments_lexer": "ipython3",
   "version": "3.7.9"
  }
 },
 "nbformat": 4,
 "nbformat_minor": 5
}
